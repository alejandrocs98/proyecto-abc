{
 "cells": [
  {
   "cell_type": "markdown",
   "metadata": {},
   "source": [
    "# Proyecto ABC"
   ]
  },
  {
   "cell_type": "code",
   "execution_count": 112,
   "metadata": {},
   "outputs": [],
   "source": [
    "import numpy as np\n",
    "import screed "
   ]
  },
  {
   "cell_type": "code",
   "execution_count": 113,
   "metadata": {},
   "outputs": [],
   "source": [
    "# Invertible Hash function\n",
    "def InvertibleHash(x, p):\n",
    "    m = (2 ** p) - 1\n",
    "    x = ((~x) + (x << 21)) & m\n",
    "    x = x ^ (x >> 24)\n",
    "    x = (x + (x << 3) + (x << 8)) & m\n",
    "    x = x ^ (x >> 14)\n",
    "    x = (x + (x << 2) + (x << 4)) & m\n",
    "    x = x ^ (x >> 28)\n",
    "    x = (x + (x << 31)) & m\n",
    "    return x\n",
    "\n",
    "# Natural hash\n",
    "def NaturalHash(kmer, k):\n",
    "    values =  {'A': 0, 'C': 1, 'G': 2, 'T': 3}\n",
    "    x = 0\n",
    "    for i in range(k):\n",
    "        x += values[kmer[k - 1 - i]]  * (4 ** i)\n",
    "    return x\n",
    "\n",
    "# Composition of string and integer hash to avoid errors with Poly-A's\n",
    "def Phi(kmer, k):\n",
    "    return InvertibleHash(NaturalHash(kmer, k), 2 * k)"
   ]
  },
  {
   "cell_type": "code",
   "execution_count": 195,
   "metadata": {},
   "outputs": [],
   "source": [
    "# Compute minimizers\n",
    "def MinimizerSketch(s, w, k):\n",
    "    M = list()\n",
    "    for i in range(len(s) - w - k + 1):\n",
    "        m = np.Inf\n",
    "        for j in range(w):\n",
    "            kmer = s[i + j: i + j + k]\n",
    "            rckmer = screed.rc(kmer)\n",
    "            u = Phi(kmer, k)\n",
    "            v = Phi(rckmer, k)\n",
    "            if u != v: \n",
    "                m = min(m, min(u, v))\n",
    "\n",
    "        for j in range(w):\n",
    "            kmer = s[i + j: i + j + k]\n",
    "            rckmer = screed.rc(kmer)\n",
    "            u = Phi(kmer, k)\n",
    "            v = Phi(rckmer, k)\n",
    "            if u < v and u == m:\n",
    "                M.append((m, i + j, 0, i))\n",
    "            elif v < u and v == m:\n",
    "                M.append((m, i + j, 1, i))\n",
    "    return M\n",
    "\n"
   ]
  },
  {
   "cell_type": "code",
   "execution_count": 196,
   "metadata": {},
   "outputs": [],
   "source": [
    "A = []\n",
    "for i in range(2 ** 10):\n",
    "    hash = InvertibleHash(i, 10)\n",
    "    if hash not in A:\n",
    "        A.append(hash)\n",
    "    else:\n",
    "        print('error', i, hash)"
   ]
  },
  {
   "cell_type": "code",
   "execution_count": 198,
   "metadata": {},
   "outputs": [
    {
     "data": {
      "text/plain": [
       "[(27, 1, 0, 0), (27, 1, 0, 1), (40, 2, 1, 2), (52, 4, 1, 3)]"
      ]
     },
     "execution_count": 198,
     "metadata": {},
     "output_type": "execute_result"
    }
   ],
   "source": [
    "MinimizerSketch('CCAGACACCA', 3, 4)"
   ]
  },
  {
   "cell_type": "code",
   "execution_count": 168,
   "metadata": {},
   "outputs": [
    {
     "data": {
      "text/plain": [
       "14"
      ]
     },
     "execution_count": 168,
     "metadata": {},
     "output_type": "execute_result"
    }
   ],
   "source": [
    "s = 'CATAACGATCGCCT'\n",
    "len(s)"
   ]
  },
  {
   "cell_type": "code",
   "execution_count": 191,
   "metadata": {},
   "outputs": [
    {
     "name": "stdout",
     "output_type": "stream",
     "text": [
      "949498 0\n",
      "498542 1\n",
      "386475 2\n",
      "695625 3\n",
      "696478 4\n",
      "701234 5\n",
      "710703 6\n",
      "716013 7\n",
      "440092 8\n",
      "108301 9\n",
      "552030 10\n",
      "93804 11\n",
      "379815 12\n",
      "139832 13\n",
      "296388 14\n",
      "335191 15\n",
      "866938 16\n",
      "217732 17\n",
      "314939 18\n",
      "79391 19\n",
      "789978 20\n",
      "19392 21\n",
      "94263 22\n",
      "379803 23\n",
      "477188 24\n",
      "515127 25\n",
      "374755 26\n",
      "467118 27\n"
     ]
    }
   ],
   "source": [
    "k = 10\n",
    "s = 'CCAGACACCACAACCGACAACGACGAGATTGATGACA'\n",
    "for i in range(len(s) - k + 1):\n",
    "    kmer = s[i: i + k]\n",
    "    rckmer = screed.rc(kmer)\n",
    "    u = Phi(kmer, k)\n",
    "    v = Phi(rckmer, k)\n",
    "    print(min(u, v), i)"
   ]
  },
  {
   "cell_type": "code",
   "execution_count": 170,
   "metadata": {},
   "outputs": [
    {
     "data": {
      "text/plain": [
       "101"
      ]
     },
     "execution_count": 170,
     "metadata": {},
     "output_type": "execute_result"
    }
   ],
   "source": [
    "Phi('ATCG', 4)"
   ]
  },
  {
   "cell_type": "code",
   "execution_count": 171,
   "metadata": {},
   "outputs": [
    {
     "data": {
      "text/plain": [
       "'CGAT'"
      ]
     },
     "execution_count": 171,
     "metadata": {},
     "output_type": "execute_result"
    }
   ],
   "source": [
    "screed.rc('ATCG')"
   ]
  },
  {
   "cell_type": "code",
   "execution_count": 172,
   "metadata": {},
   "outputs": [
    {
     "data": {
      "text/plain": [
       "44"
      ]
     },
     "execution_count": 172,
     "metadata": {},
     "output_type": "execute_result"
    }
   ],
   "source": [
    "Phi('CGAT', 4)"
   ]
  },
  {
   "cell_type": "code",
   "execution_count": 173,
   "metadata": {},
   "outputs": [
    {
     "data": {
      "text/plain": [
       "0"
      ]
     },
     "execution_count": 173,
     "metadata": {},
     "output_type": "execute_result"
    }
   ],
   "source": [
    "NaturalHash('A', 1)"
   ]
  },
  {
   "cell_type": "code",
   "execution_count": 174,
   "metadata": {},
   "outputs": [
    {
     "data": {
      "text/plain": [
       "1"
      ]
     },
     "execution_count": 174,
     "metadata": {},
     "output_type": "execute_result"
    }
   ],
   "source": [
    "NaturalHash('C', 1)"
   ]
  },
  {
   "cell_type": "code",
   "execution_count": 175,
   "metadata": {},
   "outputs": [
    {
     "data": {
      "text/plain": [
       "3"
      ]
     },
     "execution_count": 175,
     "metadata": {},
     "output_type": "execute_result"
    }
   ],
   "source": [
    "NaturalHash('T', 1)"
   ]
  },
  {
   "cell_type": "code",
   "execution_count": null,
   "metadata": {},
   "outputs": [],
   "source": []
  },
  {
   "cell_type": "code",
   "execution_count": null,
   "metadata": {},
   "outputs": [],
   "source": []
  }
 ],
 "metadata": {
  "kernelspec": {
   "display_name": "Python 3.9.6 ('base')",
   "language": "python",
   "name": "python3"
  },
  "language_info": {
   "codemirror_mode": {
    "name": "ipython",
    "version": 3
   },
   "file_extension": ".py",
   "mimetype": "text/x-python",
   "name": "python",
   "nbconvert_exporter": "python",
   "pygments_lexer": "ipython3",
   "version": "3.9.6"
  },
  "orig_nbformat": 4,
  "vscode": {
   "interpreter": {
    "hash": "1a335bd8cfeddf627992475f33074fb5d8bb1a6bcf6f7676f8b876c60a28571a"
   }
  }
 },
 "nbformat": 4,
 "nbformat_minor": 2
}
