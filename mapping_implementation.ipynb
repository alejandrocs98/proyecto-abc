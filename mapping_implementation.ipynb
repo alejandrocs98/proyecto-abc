{
 "cells": [
  {
   "cell_type": "markdown",
   "metadata": {},
   "source": [
    "# Proyecto ABC"
   ]
  }
 ],
 "metadata": {
  "kernelspec": {
   "display_name": "Python 3.9.12 ('py-workspace')",
   "language": "python",
   "name": "python3"
  },
  "language_info": {
   "name": "python",
   "version": "3.9.12"
  },
  "orig_nbformat": 4,
  "vscode": {
   "interpreter": {
    "hash": "67e1b183269257b108814ffe1aa44c4eef790f1bf2a705144259c88ba2178622"
   }
  }
 },
 "nbformat": 4,
 "nbformat_minor": 2
}
