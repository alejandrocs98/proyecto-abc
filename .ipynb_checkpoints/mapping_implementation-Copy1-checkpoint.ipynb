{
 "cells": [
  {
   "cell_type": "markdown",
   "metadata": {},
   "source": [
    "# Proyecto ABC"
   ]
  },
  {
   "cell_type": "code",
   "execution_count": 1,
   "metadata": {},
   "outputs": [],
   "source": [
    "import numpy as np\n",
    "import screed \n",
    "from collections import defaultdict"
   ]
  },
  {
   "cell_type": "code",
   "execution_count": 2,
   "metadata": {},
   "outputs": [],
   "source": [
    "# Invertible Hash function\n",
    "def InvertibleHash(x, p):\n",
    "    m = (2 ** p) - 1\n",
    "    x = ((~x) + (x << 21)) & m\n",
    "    x = x ^ (x >> 24)\n",
    "    x = (x + (x << 3) + (x << 8)) & m\n",
    "    x = x ^ (x >> 14)\n",
    "    x = (x + (x << 2) + (x << 4)) & m\n",
    "    x = x ^ (x >> 28)\n",
    "    x = (x + (x << 31)) & m\n",
    "    return x\n",
    "\n",
    "# Natural hash\n",
    "def NaturalHash(kmer, k):\n",
    "    values =  {'A': 0, 'C': 1, 'G': 2, 'T': 3}\n",
    "    x = 0\n",
    "    for i in range(k):\n",
    "        x += values[kmer[k - 1 - i]]  * (4 ** i)\n",
    "    return x\n",
    "\n",
    "# Composition of string and integer hash to avoid errors with Poly-A's\n",
    "def Phi(kmer, k):\n",
    "    return InvertibleHash(NaturalHash(kmer, k), 2 * k)"
   ]
  },
  {
   "cell_type": "code",
   "execution_count": 3,
   "metadata": {},
   "outputs": [],
   "source": [
    "# Compute minimizers\n",
    "\n",
    "# def MinimizerSketch(s, w, k):\n",
    "#     M = set()\n",
    "#     for i in range(len(s) - w - k + 1):\n",
    "#         m = np.Inf\n",
    "#         for j in range(w):\n",
    "#             kmer = s[i + j: i + j + k]\n",
    "#             rckmer = screed.rc(kmer)\n",
    "#             u = Phi(kmer, k)\n",
    "#             v = Phi(rckmer, k)\n",
    "#             if u != v: \n",
    "#                 m = min(m, min(u, v))\n",
    "\n",
    "#         for j in range(w):\n",
    "#             kmer = s[i + j: i + j + k]\n",
    "#             rckmer = screed.rc(kmer)\n",
    "#             u = Phi(kmer, k)\n",
    "#             v = Phi(rckmer, k)\n",
    "#             if u < v and u == m:\n",
    "#                 M.add((m, i + j, 0))\n",
    "#             elif v < u and v == m:\n",
    "#                 M.add((m, i + j, 1))\n",
    "#     return M\n",
    "\n",
    "def LocalMinimizers(queue):\n",
    "    i = 1\n",
    "    ranked = sorted(queue)\n",
    "    t = ranked[0][0]\n",
    "    if t < np.Inf:\n",
    "        for M in ranked[1:]:\n",
    "            if M[0] == t: \n",
    "                i += 1\n",
    "            else:\n",
    "                break \n",
    "        return ranked[:i]\n",
    "    return []\n",
    "\n",
    "\n",
    "def MinimizerSketch(s, w, k): \n",
    "    queue = [] \n",
    "    M = []\n",
    "    for i in range(w):\n",
    "        kmer = s[i: i + k]\n",
    "        rckmer = screed.rc(kmer)\n",
    "        u = Phi(kmer, k)\n",
    "        v = Phi(rckmer, k)\n",
    "        if u < v:\n",
    "            queue.append((u, i, 0))\n",
    "        if u == v: \n",
    "            queue.append((np.Inf, -1, -1))\n",
    "        if u > v:\n",
    "            queue.append((v, i, 1))\n",
    "    M.extend(LocalMinimizers(queue))\n",
    "\n",
    "\n",
    "    for i in range(w, len(s) - k + 1):\n",
    "        kmer = s[i: i + k]\n",
    "        rckmer = screed.rc(kmer)\n",
    "        u = Phi(kmer, k)\n",
    "        v = Phi(rckmer, k)\n",
    "        if u < v:\n",
    "            queue.append((u, i, 0))\n",
    "        if u == v: \n",
    "            queue.append((np.Inf, -1, -1))\n",
    "        if u > v:\n",
    "            queue.append((v, i, 1))\n",
    "        \n",
    "        queue.pop(0)\n",
    "\n",
    "        lastm = M[-1][0]\n",
    "        lasti = M[-1][1]\n",
    "        m = queue[-1][0]\n",
    "        i = queue[-1][1]\n",
    "        if m <= lastm:\n",
    "            M.append(queue[-1])\n",
    "        elif i - lasti >= w:\n",
    "            M.extend(LocalMinimizers(queue))\n",
    "    \n",
    "    return M"
   ]
  },
  {
   "cell_type": "code",
   "execution_count": 4,
   "metadata": {},
   "outputs": [],
   "source": [
    "# Index target sequences\n",
    "def Index(T, w, k):\n",
    "    A = []\n",
    "    for t in range(len(T)):\n",
    "        M = MinimizerSketch(T[t], w, k)\n",
    "        for minimizer in M:\n",
    "            h, i, r = minimizer\n",
    "            seqminimizer = (h, t, i, r)\n",
    "            A.append(seqminimizer)\n",
    "    A.sort()\n",
    "    H = defaultdict(list)\n",
    "    for a in A:\n",
    "        H[a[0]] = []\n",
    "    for a in A:\n",
    "        H[a[0]].append((a[1], a[2], a[3])) \n",
    "    return H"
   ]
  },
  {
   "cell_type": "code",
   "execution_count": 5,
   "metadata": {},
   "outputs": [],
   "source": [
    "# Map a query sequence\n",
    "\n",
    "def Map(H, q, w, k, epsilon):\n",
    "    A = []\n",
    "    M = MinimizerSketch(q, w, k)\n",
    "    for minimizer in M:\n",
    "        h, i, r = minimizer\n",
    "        if h in H.keys():\n",
    "            for hminimizer in H[h]:\n",
    "                t, i_h, r_h = hminimizer\n",
    "                if r == r_h:\n",
    "                    A.append((t, 0, i - i_h, i_h)) \n",
    "                else:\n",
    "                    A.append((t, 1, i + i_h, i_h))\n",
    "    \n",
    "    A.sort()\n",
    "    print(A)\n",
    "    b = 0\n",
    "    for e in range(len(A)):\n",
    "        if e == len(A) - 1 or A[e + 1][0] != A[e][0] or (\n",
    "            A[e + 1][1] != A[e][1] or A[e + 1][2] - A[e][2] >= epsilon):\n",
    "            chain = A[b: (e + 1)]\n",
    "            if len(chain) >= 4:\n",
    "                print(chain)\n",
    "            b = e + 1\n"
   ]
  },
  {
   "cell_type": "code",
   "execution_count": 6,
   "metadata": {},
   "outputs": [
    {
     "data": {
      "text/plain": [
       "0.00022792816162109375"
      ]
     },
     "execution_count": 6,
     "metadata": {},
     "output_type": "execute_result"
    }
   ],
   "source": [
    "w = 4\n",
    "k = 8\n",
    "import time\n",
    "t0 = time.time()\n",
    "MinimizerSketch('AAATCCTGCTACCACATCGCCAGACACCA', w, k)\n",
    "time.time() - t0"
   ]
  },
  {
   "cell_type": "code",
   "execution_count": 7,
   "metadata": {},
   "outputs": [
    {
     "name": "stdout",
     "output_type": "stream",
     "text": [
      "[(0, 0, -14, 17), (0, 0, -14, 20), (0, 0, -14, 25), (0, 0, -14, 28), (0, 0, -14, 32), (0, 0, -14, 36), (1, 0, -14, 28), (1, 0, -14, 32), (1, 0, -14, 36), (2, 1, 41, 19), (2, 1, 41, 23), (2, 1, 41, 27), (2, 1, 41, 30), (2, 1, 41, 35), (2, 1, 41, 38)]\n",
      "[(0, 0, -14, 17), (0, 0, -14, 20), (0, 0, -14, 25), (0, 0, -14, 28), (0, 0, -14, 32), (0, 0, -14, 36)]\n",
      "[(2, 1, 41, 19), (2, 1, 41, 23), (2, 1, 41, 27), (2, 1, 41, 30), (2, 1, 41, 35), (2, 1, 41, 38)]\n"
     ]
    }
   ],
   "source": [
    "T = ['AAATCCTGCTACCACATCGCCAGACACCACAACCGACAACGACGAGATTGATGACAGCGCTGCGGCACGG', \n",
    "    'AAATCCTGCTACCACATCGCCAGTCACCACAACCGACAACGACGAGATTGATGACAGCGCTGCGGCACGG',\n",
    "    screed.rc('AAATCCTGCTACCACATCGCCAGACACCACAACCGACAACGACGAGATTGATGACAGCGCTGCGGCACGG')]\n",
    "w = 5\n",
    "k = 15\n",
    "\n",
    "H = Index(T, w, k)\n",
    "q = 'CATCGCCAGACACCACAACCGACAACGACGAGATTGAT'\n",
    "epsilon = 500\n",
    "Map(H, q, w, k, epsilon)\n"
   ]
  },
  {
   "cell_type": "code",
   "execution_count": 8,
   "metadata": {},
   "outputs": [
    {
     "name": "stdout",
     "output_type": "stream",
     "text": [
      "[(0, 0, -14, 17), (0, 0, -14, 20), (0, 0, -14, 25), (0, 0, -14, 28), (0, 0, -14, 32), (0, 0, -14, 36), (1, 0, -14, 28), (1, 0, -14, 32), (1, 0, -14, 36), (2, 1, 41, 19), (2, 1, 41, 23), (2, 1, 41, 27), (2, 1, 41, 30), (2, 1, 41, 35), (2, 1, 41, 38)]\n",
      "[(0, 0, -14, 17), (0, 0, -14, 20), (0, 0, -14, 25), (0, 0, -14, 28), (0, 0, -14, 32), (0, 0, -14, 36)]\n",
      "[(2, 1, 41, 19), (2, 1, 41, 23), (2, 1, 41, 27), (2, 1, 41, 30), (2, 1, 41, 35), (2, 1, 41, 38)]\n"
     ]
    }
   ],
   "source": [
    "T = ['AAATCCTGCTACCACATCGCCAGACACCACAACCGACAACGACGAGATTGATGACAGCGCTGCGGCACGG', \n",
    "    'AAATCCTGCTACCACATCGCCAGTCACCACAACCGACAACGACGAGATTGATGACAGCGCTGCGGCACGG',\n",
    "    screed.rc('AAATCCTGCTACCACATCGCCAGACACCACAACCGACAACGACGAGATTGATGACAGCGCTGCGGCACGG')]\n",
    "w = 5\n",
    "k = 15\n",
    "\n",
    "H = Index(T, w, k)\n",
    "q = 'CATCGCCAGACACCACAACCGACAACGACGAGATTGAT'\n",
    "epsilon = 500\n",
    "Map(H, q, w, k, epsilon)\n"
   ]
  },
  {
   "cell_type": "code",
   "execution_count": 9,
   "metadata": {},
   "outputs": [],
   "source": [
    "def GetSequencesFromFile(fileName):\n",
    "    sequences = []\n",
    "    for record in screed.open(fileName):\n",
    "        sequences.append(record.sequence)\n",
    "    return sequences"
   ]
  },
  {
   "cell_type": "code",
   "execution_count": 10,
   "metadata": {},
   "outputs": [
    {
     "ename": "KeyboardInterrupt",
     "evalue": "",
     "output_type": "error",
     "traceback": [
      "\u001b[0;31m---------------------------------------------------------------------------\u001b[0m",
      "\u001b[0;31mKeyboardInterrupt\u001b[0m                         Traceback (most recent call last)",
      "\u001b[0;32m<ipython-input-10-711f2a30eb86>\u001b[0m in \u001b[0;36m<module>\u001b[0;34m\u001b[0m\n\u001b[1;32m      5\u001b[0m \u001b[0;34m\u001b[0m\u001b[0m\n\u001b[1;32m      6\u001b[0m \u001b[0;34m\u001b[0m\u001b[0m\n\u001b[0;32m----> 7\u001b[0;31m \u001b[0mH\u001b[0m \u001b[0;34m=\u001b[0m \u001b[0mIndex\u001b[0m\u001b[0;34m(\u001b[0m\u001b[0mtest\u001b[0m\u001b[0;34m,\u001b[0m \u001b[0mw\u001b[0m\u001b[0;34m,\u001b[0m \u001b[0mk\u001b[0m\u001b[0;34m)\u001b[0m\u001b[0;34m\u001b[0m\u001b[0;34m\u001b[0m\u001b[0m\n\u001b[0m",
      "\u001b[0;32m<ipython-input-4-9f0806deb5dc>\u001b[0m in \u001b[0;36mIndex\u001b[0;34m(T, w, k)\u001b[0m\n\u001b[1;32m      3\u001b[0m     \u001b[0mA\u001b[0m \u001b[0;34m=\u001b[0m \u001b[0;34m[\u001b[0m\u001b[0;34m]\u001b[0m\u001b[0;34m\u001b[0m\u001b[0;34m\u001b[0m\u001b[0m\n\u001b[1;32m      4\u001b[0m     \u001b[0;32mfor\u001b[0m \u001b[0mt\u001b[0m \u001b[0;32min\u001b[0m \u001b[0mrange\u001b[0m\u001b[0;34m(\u001b[0m\u001b[0mlen\u001b[0m\u001b[0;34m(\u001b[0m\u001b[0mT\u001b[0m\u001b[0;34m)\u001b[0m\u001b[0;34m)\u001b[0m\u001b[0;34m:\u001b[0m\u001b[0;34m\u001b[0m\u001b[0;34m\u001b[0m\u001b[0m\n\u001b[0;32m----> 5\u001b[0;31m         \u001b[0mM\u001b[0m \u001b[0;34m=\u001b[0m \u001b[0mMinimizerSketch\u001b[0m\u001b[0;34m(\u001b[0m\u001b[0mT\u001b[0m\u001b[0;34m[\u001b[0m\u001b[0mt\u001b[0m\u001b[0;34m]\u001b[0m\u001b[0;34m,\u001b[0m \u001b[0mw\u001b[0m\u001b[0;34m,\u001b[0m \u001b[0mk\u001b[0m\u001b[0;34m)\u001b[0m\u001b[0;34m\u001b[0m\u001b[0;34m\u001b[0m\u001b[0m\n\u001b[0m\u001b[1;32m      6\u001b[0m         \u001b[0;32mfor\u001b[0m \u001b[0mminimizer\u001b[0m \u001b[0;32min\u001b[0m \u001b[0mM\u001b[0m\u001b[0;34m:\u001b[0m\u001b[0;34m\u001b[0m\u001b[0;34m\u001b[0m\u001b[0m\n\u001b[1;32m      7\u001b[0m             \u001b[0mh\u001b[0m\u001b[0;34m,\u001b[0m \u001b[0mi\u001b[0m\u001b[0;34m,\u001b[0m \u001b[0mr\u001b[0m \u001b[0;34m=\u001b[0m \u001b[0mminimizer\u001b[0m\u001b[0;34m\u001b[0m\u001b[0;34m\u001b[0m\u001b[0m\n",
      "\u001b[0;32m<ipython-input-3-ead53cd44664>\u001b[0m in \u001b[0;36mMinimizerSketch\u001b[0;34m(s, w, k)\u001b[0m\n\u001b[1;32m     59\u001b[0m         \u001b[0mrckmer\u001b[0m \u001b[0;34m=\u001b[0m \u001b[0mscreed\u001b[0m\u001b[0;34m.\u001b[0m\u001b[0mrc\u001b[0m\u001b[0;34m(\u001b[0m\u001b[0mkmer\u001b[0m\u001b[0;34m)\u001b[0m\u001b[0;34m\u001b[0m\u001b[0;34m\u001b[0m\u001b[0m\n\u001b[1;32m     60\u001b[0m         \u001b[0mu\u001b[0m \u001b[0;34m=\u001b[0m \u001b[0mPhi\u001b[0m\u001b[0;34m(\u001b[0m\u001b[0mkmer\u001b[0m\u001b[0;34m,\u001b[0m \u001b[0mk\u001b[0m\u001b[0;34m)\u001b[0m\u001b[0;34m\u001b[0m\u001b[0;34m\u001b[0m\u001b[0m\n\u001b[0;32m---> 61\u001b[0;31m         \u001b[0mv\u001b[0m \u001b[0;34m=\u001b[0m \u001b[0mPhi\u001b[0m\u001b[0;34m(\u001b[0m\u001b[0mrckmer\u001b[0m\u001b[0;34m,\u001b[0m \u001b[0mk\u001b[0m\u001b[0;34m)\u001b[0m\u001b[0;34m\u001b[0m\u001b[0;34m\u001b[0m\u001b[0m\n\u001b[0m\u001b[1;32m     62\u001b[0m         \u001b[0;32mif\u001b[0m \u001b[0mu\u001b[0m \u001b[0;34m<\u001b[0m \u001b[0mv\u001b[0m\u001b[0;34m:\u001b[0m\u001b[0;34m\u001b[0m\u001b[0;34m\u001b[0m\u001b[0m\n\u001b[1;32m     63\u001b[0m             \u001b[0mqueue\u001b[0m\u001b[0;34m.\u001b[0m\u001b[0mappend\u001b[0m\u001b[0;34m(\u001b[0m\u001b[0;34m(\u001b[0m\u001b[0mu\u001b[0m\u001b[0;34m,\u001b[0m \u001b[0mi\u001b[0m\u001b[0;34m,\u001b[0m \u001b[0;36m0\u001b[0m\u001b[0;34m)\u001b[0m\u001b[0;34m)\u001b[0m\u001b[0;34m\u001b[0m\u001b[0;34m\u001b[0m\u001b[0m\n",
      "\u001b[0;32m<ipython-input-2-94abf75bdfe9>\u001b[0m in \u001b[0;36mPhi\u001b[0;34m(kmer, k)\u001b[0m\n\u001b[1;32m     21\u001b[0m \u001b[0;31m# Composition of string and integer hash to avoid errors with Poly-A's\u001b[0m\u001b[0;34m\u001b[0m\u001b[0;34m\u001b[0m\u001b[0m\n\u001b[1;32m     22\u001b[0m \u001b[0;32mdef\u001b[0m \u001b[0mPhi\u001b[0m\u001b[0;34m(\u001b[0m\u001b[0mkmer\u001b[0m\u001b[0;34m,\u001b[0m \u001b[0mk\u001b[0m\u001b[0;34m)\u001b[0m\u001b[0;34m:\u001b[0m\u001b[0;34m\u001b[0m\u001b[0;34m\u001b[0m\u001b[0m\n\u001b[0;32m---> 23\u001b[0;31m     \u001b[0;32mreturn\u001b[0m \u001b[0mInvertibleHash\u001b[0m\u001b[0;34m(\u001b[0m\u001b[0mNaturalHash\u001b[0m\u001b[0;34m(\u001b[0m\u001b[0mkmer\u001b[0m\u001b[0;34m,\u001b[0m \u001b[0mk\u001b[0m\u001b[0;34m)\u001b[0m\u001b[0;34m,\u001b[0m \u001b[0;36m2\u001b[0m \u001b[0;34m*\u001b[0m \u001b[0mk\u001b[0m\u001b[0;34m)\u001b[0m\u001b[0;34m\u001b[0m\u001b[0;34m\u001b[0m\u001b[0m\n\u001b[0m",
      "\u001b[0;32m<ipython-input-2-94abf75bdfe9>\u001b[0m in \u001b[0;36mNaturalHash\u001b[0;34m(kmer, k)\u001b[0m\n\u001b[1;32m     16\u001b[0m     \u001b[0mx\u001b[0m \u001b[0;34m=\u001b[0m \u001b[0;36m0\u001b[0m\u001b[0;34m\u001b[0m\u001b[0;34m\u001b[0m\u001b[0m\n\u001b[1;32m     17\u001b[0m     \u001b[0;32mfor\u001b[0m \u001b[0mi\u001b[0m \u001b[0;32min\u001b[0m \u001b[0mrange\u001b[0m\u001b[0;34m(\u001b[0m\u001b[0mk\u001b[0m\u001b[0;34m)\u001b[0m\u001b[0;34m:\u001b[0m\u001b[0;34m\u001b[0m\u001b[0;34m\u001b[0m\u001b[0m\n\u001b[0;32m---> 18\u001b[0;31m         \u001b[0mx\u001b[0m \u001b[0;34m+=\u001b[0m \u001b[0mvalues\u001b[0m\u001b[0;34m[\u001b[0m\u001b[0mkmer\u001b[0m\u001b[0;34m[\u001b[0m\u001b[0mk\u001b[0m \u001b[0;34m-\u001b[0m \u001b[0;36m1\u001b[0m \u001b[0;34m-\u001b[0m \u001b[0mi\u001b[0m\u001b[0;34m]\u001b[0m\u001b[0;34m]\u001b[0m  \u001b[0;34m*\u001b[0m \u001b[0;34m(\u001b[0m\u001b[0;36m4\u001b[0m \u001b[0;34m**\u001b[0m \u001b[0mi\u001b[0m\u001b[0;34m)\u001b[0m\u001b[0;34m\u001b[0m\u001b[0;34m\u001b[0m\u001b[0m\n\u001b[0m\u001b[1;32m     19\u001b[0m     \u001b[0;32mreturn\u001b[0m \u001b[0mx\u001b[0m\u001b[0;34m\u001b[0m\u001b[0;34m\u001b[0m\u001b[0m\n\u001b[1;32m     20\u001b[0m \u001b[0;34m\u001b[0m\u001b[0m\n",
      "\u001b[0;31mKeyboardInterrupt\u001b[0m: "
     ]
    }
   ],
   "source": [
    "mtuberculosis = GetSequencesFromFile('Mtuberculosis.fasta')\n",
    "test = [mtuberculosis[0]]\n",
    "w = 5\n",
    "k = 15\n",
    "\n",
    "\n",
    "H = Index(test, w, k)\n"
   ]
  },
  {
   "cell_type": "code",
   "execution_count": null,
   "metadata": {},
   "outputs": [],
   "source": [
    "q = mtuberculosis[0][110000: 112000]\n",
    "i = 0\n",
    "for record in screed.open('SRR8186772_subsample_16k.fasta'):\n",
    "    i += 1\n",
    "    print('Tiempo: {}'.format(i))\n",
    "    q = record.sequence\n",
    "    Map(H, q, w, k, epsilon)"
   ]
  },
  {
   "cell_type": "code",
   "execution_count": null,
   "metadata": {},
   "outputs": [],
   "source": []
  }
 ],
 "metadata": {
  "kernelspec": {
   "display_name": "Python 3",
   "language": "python",
   "name": "python3"
  },
  "language_info": {
   "codemirror_mode": {
    "name": "ipython",
    "version": 3
   },
   "file_extension": ".py",
   "mimetype": "text/x-python",
   "name": "python",
   "nbconvert_exporter": "python",
   "pygments_lexer": "ipython3",
   "version": "3.9.7"
  },
  "vscode": {
   "interpreter": {
    "hash": "1a335bd8cfeddf627992475f33074fb5d8bb1a6bcf6f7676f8b876c60a28571a"
   }
  }
 },
 "nbformat": 4,
 "nbformat_minor": 2
}
